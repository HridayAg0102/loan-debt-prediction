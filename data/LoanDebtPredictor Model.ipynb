{
 "cells": [
  {
   "cell_type": "markdown",
   "id": "24774b4f",
   "metadata": {},
   "source": [
    "# Model Building"
   ]
  },
  {
   "cell_type": "markdown",
   "id": "e512bb1b",
   "metadata": {},
   "source": [
    "## Implementing Formula on our Dataset"
   ]
  },
  {
   "cell_type": "code",
   "execution_count": 1,
   "id": "1d07d588",
   "metadata": {},
   "outputs": [],
   "source": [
    "import pandas as pd\n",
    "import numpy as np\n",
    "from sklearn import linear_model\n",
    "import matplotlib.pyplot as plt"
   ]
  },
  {
   "cell_type": "code",
   "execution_count": 2,
   "id": "ea9250c7",
   "metadata": {},
   "outputs": [
    {
     "data": {
      "text/html": [
       "<div>\n",
       "<style scoped>\n",
       "    .dataframe tbody tr th:only-of-type {\n",
       "        vertical-align: middle;\n",
       "    }\n",
       "\n",
       "    .dataframe tbody tr th {\n",
       "        vertical-align: top;\n",
       "    }\n",
       "\n",
       "    .dataframe thead th {\n",
       "        text-align: right;\n",
       "    }\n",
       "</style>\n",
       "<table border=\"1\" class=\"dataframe\">\n",
       "  <thead>\n",
       "    <tr style=\"text-align: right;\">\n",
       "      <th></th>\n",
       "      <th>Unnamed: 0</th>\n",
       "      <th>amount_of_loan</th>\n",
       "      <th>interest_rate</th>\n",
       "      <th>time_to_repay</th>\n",
       "      <th>simple_interest</th>\n",
       "      <th>cibil_score</th>\n",
       "      <th>past_debt_to_repay</th>\n",
       "      <th>profit_percentage_last_year</th>\n",
       "      <th>competition_scale</th>\n",
       "      <th>sustainability</th>\n",
       "      <th>startup</th>\n",
       "      <th>management_effectivity</th>\n",
       "      <th>Total_Revenue</th>\n",
       "    </tr>\n",
       "  </thead>\n",
       "  <tbody>\n",
       "    <tr>\n",
       "      <th>0</th>\n",
       "      <td>0</td>\n",
       "      <td>2194341</td>\n",
       "      <td>10</td>\n",
       "      <td>8</td>\n",
       "      <td>0</td>\n",
       "      <td>866</td>\n",
       "      <td>2626136</td>\n",
       "      <td>34</td>\n",
       "      <td>8</td>\n",
       "      <td>0</td>\n",
       "      <td>0</td>\n",
       "      <td>0</td>\n",
       "      <td>10947810</td>\n",
       "    </tr>\n",
       "    <tr>\n",
       "      <th>1</th>\n",
       "      <td>1</td>\n",
       "      <td>8639411</td>\n",
       "      <td>6</td>\n",
       "      <td>7</td>\n",
       "      <td>1</td>\n",
       "      <td>379</td>\n",
       "      <td>3530079</td>\n",
       "      <td>1</td>\n",
       "      <td>3</td>\n",
       "      <td>0</td>\n",
       "      <td>0</td>\n",
       "      <td>1</td>\n",
       "      <td>9260780</td>\n",
       "    </tr>\n",
       "    <tr>\n",
       "      <th>2</th>\n",
       "      <td>2</td>\n",
       "      <td>7205196</td>\n",
       "      <td>13</td>\n",
       "      <td>5</td>\n",
       "      <td>0</td>\n",
       "      <td>607</td>\n",
       "      <td>13704</td>\n",
       "      <td>25</td>\n",
       "      <td>10</td>\n",
       "      <td>1</td>\n",
       "      <td>1</td>\n",
       "      <td>0</td>\n",
       "      <td>6526200</td>\n",
       "    </tr>\n",
       "    <tr>\n",
       "      <th>3</th>\n",
       "      <td>3</td>\n",
       "      <td>4041602</td>\n",
       "      <td>7</td>\n",
       "      <td>6</td>\n",
       "      <td>1</td>\n",
       "      <td>631</td>\n",
       "      <td>760740</td>\n",
       "      <td>46</td>\n",
       "      <td>10</td>\n",
       "      <td>1</td>\n",
       "      <td>1</td>\n",
       "      <td>1</td>\n",
       "      <td>11793880</td>\n",
       "    </tr>\n",
       "    <tr>\n",
       "      <th>4</th>\n",
       "      <td>4</td>\n",
       "      <td>9191103</td>\n",
       "      <td>6</td>\n",
       "      <td>5</td>\n",
       "      <td>1</td>\n",
       "      <td>549</td>\n",
       "      <td>4239769</td>\n",
       "      <td>28</td>\n",
       "      <td>8</td>\n",
       "      <td>1</td>\n",
       "      <td>0</td>\n",
       "      <td>1</td>\n",
       "      <td>10932480</td>\n",
       "    </tr>\n",
       "  </tbody>\n",
       "</table>\n",
       "</div>"
      ],
      "text/plain": [
       "   Unnamed: 0  amount_of_loan  interest_rate  time_to_repay  simple_interest  \\\n",
       "0           0         2194341             10              8                0   \n",
       "1           1         8639411              6              7                1   \n",
       "2           2         7205196             13              5                0   \n",
       "3           3         4041602              7              6                1   \n",
       "4           4         9191103              6              5                1   \n",
       "\n",
       "   cibil_score  past_debt_to_repay  profit_percentage_last_year  \\\n",
       "0          866             2626136                           34   \n",
       "1          379             3530079                            1   \n",
       "2          607               13704                           25   \n",
       "3          631              760740                           46   \n",
       "4          549             4239769                           28   \n",
       "\n",
       "   competition_scale  sustainability  startup  management_effectivity  \\\n",
       "0                  8               0        0                       0   \n",
       "1                  3               0        0                       1   \n",
       "2                 10               1        1                       0   \n",
       "3                 10               1        1                       1   \n",
       "4                  8               1        0                       1   \n",
       "\n",
       "   Total_Revenue  \n",
       "0       10947810  \n",
       "1        9260780  \n",
       "2        6526200  \n",
       "3       11793880  \n",
       "4       10932480  "
      ]
     },
     "execution_count": 2,
     "metadata": {},
     "output_type": "execute_result"
    }
   ],
   "source": [
    "df = pd.read_csv('FinalDataset.csv')\n",
    "df.head()"
   ]
  },
  {
   "cell_type": "code",
   "execution_count": 3,
   "id": "c6c3022c",
   "metadata": {},
   "outputs": [
    {
     "data": {
      "text/html": [
       "<div>\n",
       "<style scoped>\n",
       "    .dataframe tbody tr th:only-of-type {\n",
       "        vertical-align: middle;\n",
       "    }\n",
       "\n",
       "    .dataframe tbody tr th {\n",
       "        vertical-align: top;\n",
       "    }\n",
       "\n",
       "    .dataframe thead th {\n",
       "        text-align: right;\n",
       "    }\n",
       "</style>\n",
       "<table border=\"1\" class=\"dataframe\">\n",
       "  <thead>\n",
       "    <tr style=\"text-align: right;\">\n",
       "      <th></th>\n",
       "      <th>amount_of_loan</th>\n",
       "      <th>interest_rate</th>\n",
       "      <th>time_to_repay</th>\n",
       "      <th>simple_interest</th>\n",
       "      <th>cibil_score</th>\n",
       "      <th>past_debt_to_repay</th>\n",
       "      <th>profit_percentage_last_year</th>\n",
       "      <th>competition_scale</th>\n",
       "      <th>sustainability</th>\n",
       "      <th>startup</th>\n",
       "      <th>management_effectivity</th>\n",
       "      <th>Total_Revenue</th>\n",
       "    </tr>\n",
       "  </thead>\n",
       "  <tbody>\n",
       "    <tr>\n",
       "      <th>0</th>\n",
       "      <td>2194341</td>\n",
       "      <td>10</td>\n",
       "      <td>8</td>\n",
       "      <td>0</td>\n",
       "      <td>866</td>\n",
       "      <td>2626136</td>\n",
       "      <td>34</td>\n",
       "      <td>8</td>\n",
       "      <td>0</td>\n",
       "      <td>0</td>\n",
       "      <td>0</td>\n",
       "      <td>10947810</td>\n",
       "    </tr>\n",
       "    <tr>\n",
       "      <th>1</th>\n",
       "      <td>8639411</td>\n",
       "      <td>6</td>\n",
       "      <td>7</td>\n",
       "      <td>1</td>\n",
       "      <td>379</td>\n",
       "      <td>3530079</td>\n",
       "      <td>1</td>\n",
       "      <td>3</td>\n",
       "      <td>0</td>\n",
       "      <td>0</td>\n",
       "      <td>1</td>\n",
       "      <td>9260780</td>\n",
       "    </tr>\n",
       "    <tr>\n",
       "      <th>2</th>\n",
       "      <td>7205196</td>\n",
       "      <td>13</td>\n",
       "      <td>5</td>\n",
       "      <td>0</td>\n",
       "      <td>607</td>\n",
       "      <td>13704</td>\n",
       "      <td>25</td>\n",
       "      <td>10</td>\n",
       "      <td>1</td>\n",
       "      <td>1</td>\n",
       "      <td>0</td>\n",
       "      <td>6526200</td>\n",
       "    </tr>\n",
       "    <tr>\n",
       "      <th>3</th>\n",
       "      <td>4041602</td>\n",
       "      <td>7</td>\n",
       "      <td>6</td>\n",
       "      <td>1</td>\n",
       "      <td>631</td>\n",
       "      <td>760740</td>\n",
       "      <td>46</td>\n",
       "      <td>10</td>\n",
       "      <td>1</td>\n",
       "      <td>1</td>\n",
       "      <td>1</td>\n",
       "      <td>11793880</td>\n",
       "    </tr>\n",
       "    <tr>\n",
       "      <th>4</th>\n",
       "      <td>9191103</td>\n",
       "      <td>6</td>\n",
       "      <td>5</td>\n",
       "      <td>1</td>\n",
       "      <td>549</td>\n",
       "      <td>4239769</td>\n",
       "      <td>28</td>\n",
       "      <td>8</td>\n",
       "      <td>1</td>\n",
       "      <td>0</td>\n",
       "      <td>1</td>\n",
       "      <td>10932480</td>\n",
       "    </tr>\n",
       "  </tbody>\n",
       "</table>\n",
       "</div>"
      ],
      "text/plain": [
       "   amount_of_loan  interest_rate  time_to_repay  simple_interest  cibil_score  \\\n",
       "0         2194341             10              8                0          866   \n",
       "1         8639411              6              7                1          379   \n",
       "2         7205196             13              5                0          607   \n",
       "3         4041602              7              6                1          631   \n",
       "4         9191103              6              5                1          549   \n",
       "\n",
       "   past_debt_to_repay  profit_percentage_last_year  competition_scale  \\\n",
       "0             2626136                           34                  8   \n",
       "1             3530079                            1                  3   \n",
       "2               13704                           25                 10   \n",
       "3              760740                           46                 10   \n",
       "4             4239769                           28                  8   \n",
       "\n",
       "   sustainability  startup  management_effectivity  Total_Revenue  \n",
       "0               0        0                       0       10947810  \n",
       "1               0        0                       1        9260780  \n",
       "2               1        1                       0        6526200  \n",
       "3               1        1                       1       11793880  \n",
       "4               1        0                       1       10932480  "
      ]
     },
     "execution_count": 3,
     "metadata": {},
     "output_type": "execute_result"
    }
   ],
   "source": [
    "df.drop(columns = ['Unnamed: 0'], inplace = True)\n",
    "df.head()"
   ]
  },
  {
   "cell_type": "markdown",
   "id": "dcf36411",
   "metadata": {},
   "source": [
    "## Calculating Risk Factor"
   ]
  },
  {
   "cell_type": "code",
   "execution_count": 4,
   "id": "95da11e5",
   "metadata": {},
   "outputs": [],
   "source": [
    "from LoanCostFunction import loan_cost_prediction"
   ]
  },
  {
   "cell_type": "code",
   "execution_count": 5,
   "id": "9d7e6da6",
   "metadata": {},
   "outputs": [],
   "source": [
    "risk = []\n",
    "cnt = 0\n",
    "for i in range(0, 3000):\n",
    "    risk.append(loan_cost_prediction(df['Total_Revenue'][i], df['profit_percentage_last_year'][i], df['simple_interest'][i], df['interest_rate'][i], df['amount_of_loan'][i], df['time_to_repay'][i], df['past_debt_to_repay'][i], df['sustainability'][i], df['competition_scale'][i], df['management_effectivity'][i], df['startup'][i], df['cibil_score'][i]))\n",
    "     "
   ]
  },
  {
   "cell_type": "code",
   "execution_count": 6,
   "id": "d9f1a71c",
   "metadata": {},
   "outputs": [
    {
     "data": {
      "text/html": [
       "<div>\n",
       "<style scoped>\n",
       "    .dataframe tbody tr th:only-of-type {\n",
       "        vertical-align: middle;\n",
       "    }\n",
       "\n",
       "    .dataframe tbody tr th {\n",
       "        vertical-align: top;\n",
       "    }\n",
       "\n",
       "    .dataframe thead th {\n",
       "        text-align: right;\n",
       "    }\n",
       "</style>\n",
       "<table border=\"1\" class=\"dataframe\">\n",
       "  <thead>\n",
       "    <tr style=\"text-align: right;\">\n",
       "      <th></th>\n",
       "      <th>amount_of_loan</th>\n",
       "      <th>interest_rate</th>\n",
       "      <th>time_to_repay</th>\n",
       "      <th>simple_interest</th>\n",
       "      <th>cibil_score</th>\n",
       "      <th>past_debt_to_repay</th>\n",
       "      <th>profit_percentage_last_year</th>\n",
       "      <th>competition_scale</th>\n",
       "      <th>sustainability</th>\n",
       "      <th>startup</th>\n",
       "      <th>management_effectivity</th>\n",
       "      <th>Total_Revenue</th>\n",
       "      <th>Risk_Factor</th>\n",
       "    </tr>\n",
       "  </thead>\n",
       "  <tbody>\n",
       "    <tr>\n",
       "      <th>0</th>\n",
       "      <td>2194341</td>\n",
       "      <td>10</td>\n",
       "      <td>8</td>\n",
       "      <td>0</td>\n",
       "      <td>866</td>\n",
       "      <td>2626136</td>\n",
       "      <td>34</td>\n",
       "      <td>8</td>\n",
       "      <td>0</td>\n",
       "      <td>0</td>\n",
       "      <td>0</td>\n",
       "      <td>10947810</td>\n",
       "      <td>2</td>\n",
       "    </tr>\n",
       "    <tr>\n",
       "      <th>1</th>\n",
       "      <td>8639411</td>\n",
       "      <td>6</td>\n",
       "      <td>7</td>\n",
       "      <td>1</td>\n",
       "      <td>379</td>\n",
       "      <td>3530079</td>\n",
       "      <td>1</td>\n",
       "      <td>3</td>\n",
       "      <td>0</td>\n",
       "      <td>0</td>\n",
       "      <td>1</td>\n",
       "      <td>9260780</td>\n",
       "      <td>-2</td>\n",
       "    </tr>\n",
       "    <tr>\n",
       "      <th>2</th>\n",
       "      <td>7205196</td>\n",
       "      <td>13</td>\n",
       "      <td>5</td>\n",
       "      <td>0</td>\n",
       "      <td>607</td>\n",
       "      <td>13704</td>\n",
       "      <td>25</td>\n",
       "      <td>10</td>\n",
       "      <td>1</td>\n",
       "      <td>1</td>\n",
       "      <td>0</td>\n",
       "      <td>6526200</td>\n",
       "      <td>-2</td>\n",
       "    </tr>\n",
       "    <tr>\n",
       "      <th>3</th>\n",
       "      <td>4041602</td>\n",
       "      <td>7</td>\n",
       "      <td>6</td>\n",
       "      <td>1</td>\n",
       "      <td>631</td>\n",
       "      <td>760740</td>\n",
       "      <td>46</td>\n",
       "      <td>10</td>\n",
       "      <td>1</td>\n",
       "      <td>1</td>\n",
       "      <td>1</td>\n",
       "      <td>11793880</td>\n",
       "      <td>-2</td>\n",
       "    </tr>\n",
       "    <tr>\n",
       "      <th>4</th>\n",
       "      <td>9191103</td>\n",
       "      <td>6</td>\n",
       "      <td>5</td>\n",
       "      <td>1</td>\n",
       "      <td>549</td>\n",
       "      <td>4239769</td>\n",
       "      <td>28</td>\n",
       "      <td>8</td>\n",
       "      <td>1</td>\n",
       "      <td>0</td>\n",
       "      <td>1</td>\n",
       "      <td>10932480</td>\n",
       "      <td>-2</td>\n",
       "    </tr>\n",
       "  </tbody>\n",
       "</table>\n",
       "</div>"
      ],
      "text/plain": [
       "   amount_of_loan  interest_rate  time_to_repay  simple_interest  cibil_score  \\\n",
       "0         2194341             10              8                0          866   \n",
       "1         8639411              6              7                1          379   \n",
       "2         7205196             13              5                0          607   \n",
       "3         4041602              7              6                1          631   \n",
       "4         9191103              6              5                1          549   \n",
       "\n",
       "   past_debt_to_repay  profit_percentage_last_year  competition_scale  \\\n",
       "0             2626136                           34                  8   \n",
       "1             3530079                            1                  3   \n",
       "2               13704                           25                 10   \n",
       "3              760740                           46                 10   \n",
       "4             4239769                           28                  8   \n",
       "\n",
       "   sustainability  startup  management_effectivity  Total_Revenue  Risk_Factor  \n",
       "0               0        0                       0       10947810            2  \n",
       "1               0        0                       1        9260780           -2  \n",
       "2               1        1                       0        6526200           -2  \n",
       "3               1        1                       1       11793880           -2  \n",
       "4               1        0                       1       10932480           -2  "
      ]
     },
     "execution_count": 6,
     "metadata": {},
     "output_type": "execute_result"
    }
   ],
   "source": [
    "df['Risk_Factor'] = risk\n",
    "df.head()"
   ]
  },
  {
   "cell_type": "markdown",
   "id": "3f67aecc",
   "metadata": {},
   "source": [
    "## Model Training"
   ]
  },
  {
   "cell_type": "code",
   "execution_count": 7,
   "id": "a67e30b9",
   "metadata": {},
   "outputs": [],
   "source": [
    "target = df.iloc[:, -1]"
   ]
  },
  {
   "cell_type": "code",
   "execution_count": 8,
   "id": "3f8e5c0a",
   "metadata": {},
   "outputs": [],
   "source": [
    "from sklearn.model_selection import train_test_split\n",
    "X_train, X_test, Y_train, Y_test = train_test_split(df.drop('Risk_Factor',axis='columns'), target, test_size=0.3)"
   ]
  },
  {
   "cell_type": "code",
   "execution_count": 9,
   "id": "b4a9856f",
   "metadata": {},
   "outputs": [
    {
     "data": {
      "text/plain": [
       "LinearRegression()"
      ]
     },
     "execution_count": 9,
     "metadata": {},
     "output_type": "execute_result"
    }
   ],
   "source": [
    "reg = linear_model.LinearRegression()\n",
    "reg.fit(df[['amount_of_loan', 'interest_rate', 'time_to_repay', 'simple_interest', 'cibil_score', 'past_debt_to_repay', 'profit_percentage_last_year', 'competition_scale', 'sustainability', 'startup', 'management_effectivity', 'Total_Revenue']], df['Risk_Factor'])\n"
   ]
  },
  {
   "cell_type": "markdown",
   "id": "5c41f0a0",
   "metadata": {},
   "source": [
    "## Predicting Testcases"
   ]
  },
  {
   "cell_type": "markdown",
   "id": "6dd4ca14",
   "metadata": {},
   "source": [
    "### Risk Factor is towards 2 (High Profit)"
   ]
  },
  {
   "cell_type": "code",
   "execution_count": 10,
   "id": "799c13b4",
   "metadata": {},
   "outputs": [
    {
     "name": "stderr",
     "output_type": "stream",
     "text": [
      "/Library/Frameworks/Python.framework/Versions/3.9/lib/python3.9/site-packages/sklearn/base.py:445: UserWarning: X does not have valid feature names, but LinearRegression was fitted with feature names\n",
      "  warnings.warn(\n"
     ]
    },
    {
     "data": {
      "text/plain": [
       "array([1.13732073])"
      ]
     },
     "execution_count": 10,
     "metadata": {},
     "output_type": "execute_result"
    }
   ],
   "source": [
    "reg.predict([[2200000, 10, 7, 0, 880, 2600000, 40, 10, 0, 0, 0, 15000000]])"
   ]
  },
  {
   "cell_type": "markdown",
   "id": "72649dec",
   "metadata": {},
   "source": [
    "### Risk Factor is towards -2 (High Loss)"
   ]
  },
  {
   "cell_type": "code",
   "execution_count": 11,
   "id": "f1fb4b84",
   "metadata": {},
   "outputs": [
    {
     "name": "stderr",
     "output_type": "stream",
     "text": [
      "/Library/Frameworks/Python.framework/Versions/3.9/lib/python3.9/site-packages/sklearn/base.py:445: UserWarning: X does not have valid feature names, but LinearRegression was fitted with feature names\n",
      "  warnings.warn(\n"
     ]
    },
    {
     "data": {
      "text/plain": [
       "array([-2.21207981])"
      ]
     },
     "execution_count": 11,
     "metadata": {},
     "output_type": "execute_result"
    }
   ],
   "source": [
    "reg.predict([[8650000, 6, 8, 1, 400, 3500000, 1, 3, 0, 0, 1, 9260000]])"
   ]
  },
  {
   "cell_type": "markdown",
   "id": "ac4a4b1c",
   "metadata": {},
   "source": [
    "### Risk Factor is towards 1 (Less Profit)"
   ]
  },
  {
   "cell_type": "code",
   "execution_count": 12,
   "id": "b8de56d0",
   "metadata": {},
   "outputs": [
    {
     "name": "stderr",
     "output_type": "stream",
     "text": [
      "/Library/Frameworks/Python.framework/Versions/3.9/lib/python3.9/site-packages/sklearn/base.py:445: UserWarning: X does not have valid feature names, but LinearRegression was fitted with feature names\n",
      "  warnings.warn(\n"
     ]
    },
    {
     "data": {
      "text/plain": [
       "array([0.91867856])"
      ]
     },
     "execution_count": 12,
     "metadata": {},
     "output_type": "execute_result"
    }
   ],
   "source": [
    "reg.predict([[3730000, 12, 2, 0, 700, 435000, 50, 2, 1, 1, 0, 8020000]])"
   ]
  },
  {
   "cell_type": "markdown",
   "id": "f7f52c34",
   "metadata": {},
   "source": [
    "### Risk Factor is towards -1 (Less Profit)"
   ]
  },
  {
   "cell_type": "code",
   "execution_count": 13,
   "id": "3c5be53a",
   "metadata": {},
   "outputs": [
    {
     "name": "stderr",
     "output_type": "stream",
     "text": [
      "/Library/Frameworks/Python.framework/Versions/3.9/lib/python3.9/site-packages/sklearn/base.py:445: UserWarning: X does not have valid feature names, but LinearRegression was fitted with feature names\n",
      "  warnings.warn(\n"
     ]
    },
    {
     "data": {
      "text/plain": [
       "array([-0.27929969])"
      ]
     },
     "execution_count": 13,
     "metadata": {},
     "output_type": "execute_result"
    }
   ],
   "source": [
    "reg.predict([[8350000, 13, 6, 0, 890, 10000000, 35, 9, 1, 1, 1, 5000000]])"
   ]
  },
  {
   "cell_type": "code",
   "execution_count": null,
   "id": "84f5ed9d",
   "metadata": {},
   "outputs": [],
   "source": []
  }
 ],
 "metadata": {
  "kernelspec": {
   "display_name": "Python 3 (ipykernel)",
   "language": "python",
   "name": "python3"
  },
  "language_info": {
   "codemirror_mode": {
    "name": "ipython",
    "version": 3
   },
   "file_extension": ".py",
   "mimetype": "text/x-python",
   "name": "python",
   "nbconvert_exporter": "python",
   "pygments_lexer": "ipython3",
   "version": "3.9.1"
  }
 },
 "nbformat": 4,
 "nbformat_minor": 5
}
