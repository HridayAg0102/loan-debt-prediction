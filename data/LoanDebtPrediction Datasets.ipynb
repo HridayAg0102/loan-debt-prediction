{
 "cells": [
  {
   "cell_type": "markdown",
   "id": "6f409bf1",
   "metadata": {},
   "source": [
    "## Groceries Industry Dataset Generation"
   ]
  },
  {
   "cell_type": "code",
   "execution_count": 2,
   "id": "3a7bf1b4",
   "metadata": {},
   "outputs": [],
   "source": [
    "import pandas as pd\n",
    "import random\n",
    "\n",
    "dic = dict()\n",
    "\n",
    "commodities = ['pulses_1kg', 'flour_10kg', 'rice_5kg', 'oil_1ltr', 'soap']\n",
    "loan_details = ['amount_of_loan', 'interest_rate', 'time_to_repay', 'simple_interest', 'cibil_score', 'past_debt_to_repay']\n",
    "other_factors = ['no_of_units_sold_per_day_of_pulses','no_of_units_sold_per_day_of_flour','no_of_units_sold_per_day_of_rice','no_of_units_sold_per_day_of_oil','no_of_units_sold_per_day_of_soap', 'profit_percentage_last_year', 'competition_scale', 'sustainability', 'startup', 'management_effectivity']\n",
    "\n",
    "commodities_ranges = [[80, 200], [300, 550], [400, 750], [200, 400], [20, 100]]\n",
    "loan_ranges = [[500000, 10000000], [6, 15], [1, 10], [0, 2], [300, 900], [0, 5000000]]\n",
    "other_ranges = [[5, 15], [5, 20], [5, 20], [3, 12], [10, 40], [0, 50], [1, 11], [0, 2], [0, 2], [0, 2]]\n",
    "\n",
    "for i in range(0, len(commodities)):\n",
    "    a = [random.randrange(commodities_ranges[i][0], commodities_ranges[i][1]) for _ in range(1000)]\n",
    "    dic[commodities[i]] = a\n",
    "    \n",
    "for j in range(0, len(loan_details)):\n",
    "    b = [random.randrange(loan_ranges[j][0], loan_ranges[j][1]) for _ in range(1000)]\n",
    "    dic[loan_details[j]] = b\n",
    "    \n",
    "for k in range(0, len(other_factors)):\n",
    "    c = [random.randrange(other_ranges[k][0], other_ranges[k][1]) for _ in range(1000)]\n",
    "    dic[other_factors[k]] = c\n",
    "    \n",
    "\n",
    "df = pd.DataFrame(dic)\n",
    "df\n",
    "df.to_csv(\"Groceries.csv\")"
   ]
  },
  {
   "cell_type": "markdown",
   "id": "24457631",
   "metadata": {},
   "source": [
    "## Electronics Industry Dataset Generation"
   ]
  },
  {
   "cell_type": "code",
   "execution_count": 3,
   "id": "1da2a7b2",
   "metadata": {},
   "outputs": [],
   "source": [
    "dic1 = dict()\n",
    "\n",
    "commodities1 = ['laptop', 'phone', 'tablet', 'television', 'gaming_console']\n",
    "loan_details1 = ['amount_of_loan', 'interest_rate', 'time_to_repay', 'simple_interest', 'cibil_score', 'past_debt_to_repay']\n",
    "other_factors1 = ['no_of_units_sold_per_day_of_laptop','no_of_units_sold_per_day_of_phone','no_of_units_sold_per_day_of_tablet','no_of_units_sold_per_day_of_television','no_of_units_sold_per_day_of_gaming_console', 'profit_percentage_last_year', 'competition_scale', 'sustainability', 'startup', 'management_effectivity']\n",
    "\n",
    "commodities_ranges1 = [[50000, 150000], [5000, 120000], [20000, 50000], [30000, 200000], [25000, 50000]]\n",
    "loan_ranges1 = [[500000, 10000000], [6, 15], [1, 10], [0, 2], [300, 900], [0, 5000000]]\n",
    "other_ranges1 = [[1, 10], [1, 7], [1, 5], [1, 5], [1, 3], [0, 50], [1, 11], [0, 2], [0, 2], [0, 2]]\n",
    "\n",
    "for i in range(0, len(commodities1)):\n",
    "    d = [random.randrange(commodities_ranges1[i][0], commodities_ranges1[i][1]) for _ in range(1000)]\n",
    "    dic1[commodities1[i]] = d\n",
    "    \n",
    "for j in range(0, len(loan_details1)):\n",
    "    e = [random.randrange(loan_ranges1[j][0], loan_ranges1[j][1]) for _ in range(1000)]\n",
    "    dic1[loan_details1[j]] = e\n",
    "    \n",
    "for k in range(0, len(other_factors1)):\n",
    "    f = [random.randrange(other_ranges1[k][0], other_ranges1[k][1]) for _ in range(1000)]\n",
    "    dic1[other_factors1[k]] = f\n",
    "    \n",
    "\n",
    "df1 = pd.DataFrame(dic1)\n",
    "df1\n",
    "df1.to_csv(\"Electronics.csv\")"
   ]
  },
  {
   "cell_type": "markdown",
   "id": "21d2ed68",
   "metadata": {},
   "source": [
    "## Clothing Industry Dataset Generation"
   ]
  },
  {
   "cell_type": "code",
   "execution_count": 4,
   "id": "20d3e9e6",
   "metadata": {},
   "outputs": [],
   "source": [
    "dic2 = dict()\n",
    "\n",
    "commodities2 = ['shirt', 'kurta', 'tops', 'shorts', 'jeans']\n",
    "loan_details2 = ['amount_of_loan', 'interest_rate', 'time_to_repay', 'simple_interest', 'cibil_score', 'past_debt_to_repay']\n",
    "other_factors2 = ['no_of_units_sold_per_day_of_shirt','no_of_units_sold_per_day_of_kurta','no_of_units_sold_per_day_of_tops','no_of_units_sold_per_day_of_shorts','no_of_units_sold_per_day_of_jeans', 'profit_percentage_last_year', 'competition_scale', 'sustainability', 'startup', 'management_effectivity']\n",
    "\n",
    "commodities_ranges2 = [[500, 5000], [1000, 10000], [2000, 20000], [500, 3000], [1000, 7000]]\n",
    "loan_ranges2 = [[500000, 10000000], [6, 15], [1, 10], [0, 2], [300, 900], [0, 5000000]]\n",
    "other_ranges2 = [[3, 15], [1, 10], [5, 20], [3, 15], [2, 12], [0, 50], [1, 11], [0, 2], [0, 2], [0, 2]]\n",
    "\n",
    "for i in range(0, len(commodities2)):\n",
    "    g = [random.randrange(commodities_ranges2[i][0], commodities_ranges2[i][1]) for _ in range(1000)]\n",
    "    dic2[commodities2[i]] = g\n",
    "    \n",
    "for j in range(0, len(loan_details2)):\n",
    "    h = [random.randrange(loan_ranges2[j][0], loan_ranges2[j][1]) for _ in range(1000)]\n",
    "    dic2[loan_details2[j]] = h\n",
    "    \n",
    "for k in range(0, len(other_factors2)):\n",
    "    i = [random.randrange(other_ranges2[k][0], other_ranges2[k][1]) for _ in range(1000)]\n",
    "    dic2[other_factors2[k]] = i\n",
    "    \n",
    "\n",
    "df2 = pd.DataFrame(dic2)\n",
    "df2\n",
    "df2.to_csv(\"Clothing.csv\")"
   ]
  },
  {
   "cell_type": "code",
   "execution_count": null,
   "id": "51c4a089",
   "metadata": {},
   "outputs": [],
   "source": []
  }
 ],
 "metadata": {
  "kernelspec": {
   "display_name": "Python 3 (ipykernel)",
   "language": "python",
   "name": "python3"
  },
  "language_info": {
   "codemirror_mode": {
    "name": "ipython",
    "version": 3
   },
   "file_extension": ".py",
   "mimetype": "text/x-python",
   "name": "python",
   "nbconvert_exporter": "python",
   "pygments_lexer": "ipython3",
   "version": "3.9.1"
  }
 },
 "nbformat": 4,
 "nbformat_minor": 5
}
