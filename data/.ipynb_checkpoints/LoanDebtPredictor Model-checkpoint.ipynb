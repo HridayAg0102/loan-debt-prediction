{
 "cells": [
  {
   "cell_type": "markdown",
   "id": "24774b4f",
   "metadata": {},
   "source": [
    "# Model Building"
   ]
  },
  {
   "cell_type": "markdown",
   "id": "e512bb1b",
   "metadata": {},
   "source": [
    "## Implementing Formula on our Dataset"
   ]
  },
  {
   "cell_type": "code",
   "execution_count": 1,
   "id": "1d07d588",
   "metadata": {},
   "outputs": [],
   "source": [
    "import pandas as pd\n",
    "import numpy as np\n",
    "from sklearn import linear_model\n",
    "import matplotlib.pyplot as plt"
   ]
  },
  {
   "cell_type": "code",
   "execution_count": 2,
   "id": "ea9250c7",
   "metadata": {},
   "outputs": [
    {
     "data": {
      "text/html": [
       "<div>\n",
       "<style scoped>\n",
       "    .dataframe tbody tr th:only-of-type {\n",
       "        vertical-align: middle;\n",
       "    }\n",
       "\n",
       "    .dataframe tbody tr th {\n",
       "        vertical-align: top;\n",
       "    }\n",
       "\n",
       "    .dataframe thead th {\n",
       "        text-align: right;\n",
       "    }\n",
       "</style>\n",
       "<table border=\"1\" class=\"dataframe\">\n",
       "  <thead>\n",
       "    <tr style=\"text-align: right;\">\n",
       "      <th></th>\n",
       "      <th>Unnamed: 0</th>\n",
       "      <th>amount_of_loan</th>\n",
       "      <th>interest_rate</th>\n",
       "      <th>time_to_repay</th>\n",
       "      <th>simple_interest</th>\n",
       "      <th>cibil_score</th>\n",
       "      <th>past_debt_to_repay</th>\n",
       "      <th>profit_percentage_last_year</th>\n",
       "      <th>competition_scale</th>\n",
       "      <th>sustainability</th>\n",
       "      <th>startup</th>\n",
       "      <th>management_effectivity</th>\n",
       "      <th>Total_Revenue</th>\n",
       "    </tr>\n",
       "  </thead>\n",
       "  <tbody>\n",
       "    <tr>\n",
       "      <th>0</th>\n",
       "      <td>0</td>\n",
       "      <td>3331276</td>\n",
       "      <td>13</td>\n",
       "      <td>3</td>\n",
       "      <td>1</td>\n",
       "      <td>760</td>\n",
       "      <td>1549433</td>\n",
       "      <td>1</td>\n",
       "      <td>4</td>\n",
       "      <td>1</td>\n",
       "      <td>0</td>\n",
       "      <td>0</td>\n",
       "      <td>10758375</td>\n",
       "    </tr>\n",
       "    <tr>\n",
       "      <th>1</th>\n",
       "      <td>1</td>\n",
       "      <td>6690555</td>\n",
       "      <td>9</td>\n",
       "      <td>2</td>\n",
       "      <td>1</td>\n",
       "      <td>713</td>\n",
       "      <td>1577994</td>\n",
       "      <td>21</td>\n",
       "      <td>4</td>\n",
       "      <td>1</td>\n",
       "      <td>0</td>\n",
       "      <td>1</td>\n",
       "      <td>9835290</td>\n",
       "    </tr>\n",
       "    <tr>\n",
       "      <th>2</th>\n",
       "      <td>2</td>\n",
       "      <td>5039662</td>\n",
       "      <td>12</td>\n",
       "      <td>4</td>\n",
       "      <td>1</td>\n",
       "      <td>761</td>\n",
       "      <td>4555691</td>\n",
       "      <td>34</td>\n",
       "      <td>7</td>\n",
       "      <td>1</td>\n",
       "      <td>1</td>\n",
       "      <td>0</td>\n",
       "      <td>11539840</td>\n",
       "    </tr>\n",
       "    <tr>\n",
       "      <th>3</th>\n",
       "      <td>3</td>\n",
       "      <td>6230007</td>\n",
       "      <td>13</td>\n",
       "      <td>3</td>\n",
       "      <td>0</td>\n",
       "      <td>637</td>\n",
       "      <td>2529141</td>\n",
       "      <td>11</td>\n",
       "      <td>3</td>\n",
       "      <td>0</td>\n",
       "      <td>0</td>\n",
       "      <td>0</td>\n",
       "      <td>7759170</td>\n",
       "    </tr>\n",
       "    <tr>\n",
       "      <th>4</th>\n",
       "      <td>4</td>\n",
       "      <td>1615383</td>\n",
       "      <td>13</td>\n",
       "      <td>2</td>\n",
       "      <td>1</td>\n",
       "      <td>791</td>\n",
       "      <td>1700947</td>\n",
       "      <td>32</td>\n",
       "      <td>8</td>\n",
       "      <td>0</td>\n",
       "      <td>0</td>\n",
       "      <td>0</td>\n",
       "      <td>6482400</td>\n",
       "    </tr>\n",
       "  </tbody>\n",
       "</table>\n",
       "</div>"
      ],
      "text/plain": [
       "   Unnamed: 0  amount_of_loan  interest_rate  time_to_repay  simple_interest  \\\n",
       "0           0         3331276             13              3                1   \n",
       "1           1         6690555              9              2                1   \n",
       "2           2         5039662             12              4                1   \n",
       "3           3         6230007             13              3                0   \n",
       "4           4         1615383             13              2                1   \n",
       "\n",
       "   cibil_score  past_debt_to_repay  profit_percentage_last_year  \\\n",
       "0          760             1549433                            1   \n",
       "1          713             1577994                           21   \n",
       "2          761             4555691                           34   \n",
       "3          637             2529141                           11   \n",
       "4          791             1700947                           32   \n",
       "\n",
       "   competition_scale  sustainability  startup  management_effectivity  \\\n",
       "0                  4               1        0                       0   \n",
       "1                  4               1        0                       1   \n",
       "2                  7               1        1                       0   \n",
       "3                  3               0        0                       0   \n",
       "4                  8               0        0                       0   \n",
       "\n",
       "   Total_Revenue  \n",
       "0       10758375  \n",
       "1        9835290  \n",
       "2       11539840  \n",
       "3        7759170  \n",
       "4        6482400  "
      ]
     },
     "execution_count": 2,
     "metadata": {},
     "output_type": "execute_result"
    }
   ],
   "source": [
    "df = pd.read_csv('FinalDataset.csv')\n",
    "df.head()"
   ]
  },
  {
   "cell_type": "code",
   "execution_count": 3,
   "id": "c6c3022c",
   "metadata": {},
   "outputs": [
    {
     "data": {
      "text/html": [
       "<div>\n",
       "<style scoped>\n",
       "    .dataframe tbody tr th:only-of-type {\n",
       "        vertical-align: middle;\n",
       "    }\n",
       "\n",
       "    .dataframe tbody tr th {\n",
       "        vertical-align: top;\n",
       "    }\n",
       "\n",
       "    .dataframe thead th {\n",
       "        text-align: right;\n",
       "    }\n",
       "</style>\n",
       "<table border=\"1\" class=\"dataframe\">\n",
       "  <thead>\n",
       "    <tr style=\"text-align: right;\">\n",
       "      <th></th>\n",
       "      <th>amount_of_loan</th>\n",
       "      <th>interest_rate</th>\n",
       "      <th>time_to_repay</th>\n",
       "      <th>simple_interest</th>\n",
       "      <th>cibil_score</th>\n",
       "      <th>past_debt_to_repay</th>\n",
       "      <th>profit_percentage_last_year</th>\n",
       "      <th>competition_scale</th>\n",
       "      <th>sustainability</th>\n",
       "      <th>startup</th>\n",
       "      <th>management_effectivity</th>\n",
       "      <th>Total_Revenue</th>\n",
       "    </tr>\n",
       "  </thead>\n",
       "  <tbody>\n",
       "    <tr>\n",
       "      <th>0</th>\n",
       "      <td>3331276</td>\n",
       "      <td>13</td>\n",
       "      <td>3</td>\n",
       "      <td>1</td>\n",
       "      <td>760</td>\n",
       "      <td>1549433</td>\n",
       "      <td>1</td>\n",
       "      <td>4</td>\n",
       "      <td>1</td>\n",
       "      <td>0</td>\n",
       "      <td>0</td>\n",
       "      <td>10758375</td>\n",
       "    </tr>\n",
       "    <tr>\n",
       "      <th>1</th>\n",
       "      <td>6690555</td>\n",
       "      <td>9</td>\n",
       "      <td>2</td>\n",
       "      <td>1</td>\n",
       "      <td>713</td>\n",
       "      <td>1577994</td>\n",
       "      <td>21</td>\n",
       "      <td>4</td>\n",
       "      <td>1</td>\n",
       "      <td>0</td>\n",
       "      <td>1</td>\n",
       "      <td>9835290</td>\n",
       "    </tr>\n",
       "    <tr>\n",
       "      <th>2</th>\n",
       "      <td>5039662</td>\n",
       "      <td>12</td>\n",
       "      <td>4</td>\n",
       "      <td>1</td>\n",
       "      <td>761</td>\n",
       "      <td>4555691</td>\n",
       "      <td>34</td>\n",
       "      <td>7</td>\n",
       "      <td>1</td>\n",
       "      <td>1</td>\n",
       "      <td>0</td>\n",
       "      <td>11539840</td>\n",
       "    </tr>\n",
       "    <tr>\n",
       "      <th>3</th>\n",
       "      <td>6230007</td>\n",
       "      <td>13</td>\n",
       "      <td>3</td>\n",
       "      <td>0</td>\n",
       "      <td>637</td>\n",
       "      <td>2529141</td>\n",
       "      <td>11</td>\n",
       "      <td>3</td>\n",
       "      <td>0</td>\n",
       "      <td>0</td>\n",
       "      <td>0</td>\n",
       "      <td>7759170</td>\n",
       "    </tr>\n",
       "    <tr>\n",
       "      <th>4</th>\n",
       "      <td>1615383</td>\n",
       "      <td>13</td>\n",
       "      <td>2</td>\n",
       "      <td>1</td>\n",
       "      <td>791</td>\n",
       "      <td>1700947</td>\n",
       "      <td>32</td>\n",
       "      <td>8</td>\n",
       "      <td>0</td>\n",
       "      <td>0</td>\n",
       "      <td>0</td>\n",
       "      <td>6482400</td>\n",
       "    </tr>\n",
       "  </tbody>\n",
       "</table>\n",
       "</div>"
      ],
      "text/plain": [
       "   amount_of_loan  interest_rate  time_to_repay  simple_interest  cibil_score  \\\n",
       "0         3331276             13              3                1          760   \n",
       "1         6690555              9              2                1          713   \n",
       "2         5039662             12              4                1          761   \n",
       "3         6230007             13              3                0          637   \n",
       "4         1615383             13              2                1          791   \n",
       "\n",
       "   past_debt_to_repay  profit_percentage_last_year  competition_scale  \\\n",
       "0             1549433                            1                  4   \n",
       "1             1577994                           21                  4   \n",
       "2             4555691                           34                  7   \n",
       "3             2529141                           11                  3   \n",
       "4             1700947                           32                  8   \n",
       "\n",
       "   sustainability  startup  management_effectivity  Total_Revenue  \n",
       "0               1        0                       0       10758375  \n",
       "1               1        0                       1        9835290  \n",
       "2               1        1                       0       11539840  \n",
       "3               0        0                       0        7759170  \n",
       "4               0        0                       0        6482400  "
      ]
     },
     "execution_count": 3,
     "metadata": {},
     "output_type": "execute_result"
    }
   ],
   "source": [
    "df.drop(columns = ['Unnamed: 0'], inplace = True)\n",
    "df.head()"
   ]
  },
  {
   "cell_type": "markdown",
   "id": "dcf36411",
   "metadata": {},
   "source": [
    "## Calculating Risk Factor"
   ]
  },
  {
   "cell_type": "code",
   "execution_count": 4,
   "id": "95da11e5",
   "metadata": {},
   "outputs": [],
   "source": [
    "from LoanCostFunction import loan_cost_prediction"
   ]
  },
  {
   "cell_type": "code",
   "execution_count": 5,
   "id": "9d7e6da6",
   "metadata": {},
   "outputs": [],
   "source": [
    "risk = []\n",
    "cnt = 0\n",
    "for i in range(0, 3000):\n",
    "    risk.append(loan_cost_prediction(df['Total_Revenue'][i], df['profit_percentage_last_year'][i], df['simple_interest'][i], df['interest_rate'][i], df['amount_of_loan'][i], df['time_to_repay'][i], df['past_debt_to_repay'][i], df['sustainability'][i], df['competition_scale'][i], df['management_effectivity'][i], df['startup'][i], df['cibil_score'][i]))\n",
    "     "
   ]
  },
  {
   "cell_type": "code",
   "execution_count": 6,
   "id": "d9f1a71c",
   "metadata": {},
   "outputs": [
    {
     "data": {
      "text/html": [
       "<div>\n",
       "<style scoped>\n",
       "    .dataframe tbody tr th:only-of-type {\n",
       "        vertical-align: middle;\n",
       "    }\n",
       "\n",
       "    .dataframe tbody tr th {\n",
       "        vertical-align: top;\n",
       "    }\n",
       "\n",
       "    .dataframe thead th {\n",
       "        text-align: right;\n",
       "    }\n",
       "</style>\n",
       "<table border=\"1\" class=\"dataframe\">\n",
       "  <thead>\n",
       "    <tr style=\"text-align: right;\">\n",
       "      <th></th>\n",
       "      <th>amount_of_loan</th>\n",
       "      <th>interest_rate</th>\n",
       "      <th>time_to_repay</th>\n",
       "      <th>simple_interest</th>\n",
       "      <th>cibil_score</th>\n",
       "      <th>past_debt_to_repay</th>\n",
       "      <th>profit_percentage_last_year</th>\n",
       "      <th>competition_scale</th>\n",
       "      <th>sustainability</th>\n",
       "      <th>startup</th>\n",
       "      <th>management_effectivity</th>\n",
       "      <th>Total_Revenue</th>\n",
       "      <th>Risk_Factor</th>\n",
       "    </tr>\n",
       "  </thead>\n",
       "  <tbody>\n",
       "    <tr>\n",
       "      <th>0</th>\n",
       "      <td>3331276</td>\n",
       "      <td>13</td>\n",
       "      <td>3</td>\n",
       "      <td>1</td>\n",
       "      <td>760</td>\n",
       "      <td>1549433</td>\n",
       "      <td>1</td>\n",
       "      <td>4</td>\n",
       "      <td>1</td>\n",
       "      <td>0</td>\n",
       "      <td>0</td>\n",
       "      <td>10758375</td>\n",
       "      <td>-2</td>\n",
       "    </tr>\n",
       "    <tr>\n",
       "      <th>1</th>\n",
       "      <td>6690555</td>\n",
       "      <td>9</td>\n",
       "      <td>2</td>\n",
       "      <td>1</td>\n",
       "      <td>713</td>\n",
       "      <td>1577994</td>\n",
       "      <td>21</td>\n",
       "      <td>4</td>\n",
       "      <td>1</td>\n",
       "      <td>0</td>\n",
       "      <td>1</td>\n",
       "      <td>9835290</td>\n",
       "      <td>2</td>\n",
       "    </tr>\n",
       "    <tr>\n",
       "      <th>2</th>\n",
       "      <td>5039662</td>\n",
       "      <td>12</td>\n",
       "      <td>4</td>\n",
       "      <td>1</td>\n",
       "      <td>761</td>\n",
       "      <td>4555691</td>\n",
       "      <td>34</td>\n",
       "      <td>7</td>\n",
       "      <td>1</td>\n",
       "      <td>1</td>\n",
       "      <td>0</td>\n",
       "      <td>11539840</td>\n",
       "      <td>2</td>\n",
       "    </tr>\n",
       "    <tr>\n",
       "      <th>3</th>\n",
       "      <td>6230007</td>\n",
       "      <td>13</td>\n",
       "      <td>3</td>\n",
       "      <td>0</td>\n",
       "      <td>637</td>\n",
       "      <td>2529141</td>\n",
       "      <td>11</td>\n",
       "      <td>3</td>\n",
       "      <td>0</td>\n",
       "      <td>0</td>\n",
       "      <td>0</td>\n",
       "      <td>7759170</td>\n",
       "      <td>2</td>\n",
       "    </tr>\n",
       "    <tr>\n",
       "      <th>4</th>\n",
       "      <td>1615383</td>\n",
       "      <td>13</td>\n",
       "      <td>2</td>\n",
       "      <td>1</td>\n",
       "      <td>791</td>\n",
       "      <td>1700947</td>\n",
       "      <td>32</td>\n",
       "      <td>8</td>\n",
       "      <td>0</td>\n",
       "      <td>0</td>\n",
       "      <td>0</td>\n",
       "      <td>6482400</td>\n",
       "      <td>2</td>\n",
       "    </tr>\n",
       "  </tbody>\n",
       "</table>\n",
       "</div>"
      ],
      "text/plain": [
       "   amount_of_loan  interest_rate  time_to_repay  simple_interest  cibil_score  \\\n",
       "0         3331276             13              3                1          760   \n",
       "1         6690555              9              2                1          713   \n",
       "2         5039662             12              4                1          761   \n",
       "3         6230007             13              3                0          637   \n",
       "4         1615383             13              2                1          791   \n",
       "\n",
       "   past_debt_to_repay  profit_percentage_last_year  competition_scale  \\\n",
       "0             1549433                            1                  4   \n",
       "1             1577994                           21                  4   \n",
       "2             4555691                           34                  7   \n",
       "3             2529141                           11                  3   \n",
       "4             1700947                           32                  8   \n",
       "\n",
       "   sustainability  startup  management_effectivity  Total_Revenue  Risk_Factor  \n",
       "0               1        0                       0       10758375           -2  \n",
       "1               1        0                       1        9835290            2  \n",
       "2               1        1                       0       11539840            2  \n",
       "3               0        0                       0        7759170            2  \n",
       "4               0        0                       0        6482400            2  "
      ]
     },
     "execution_count": 6,
     "metadata": {},
     "output_type": "execute_result"
    }
   ],
   "source": [
    "df['Risk_Factor'] = risk\n",
    "df.head()"
   ]
  },
  {
   "cell_type": "markdown",
   "id": "3f67aecc",
   "metadata": {},
   "source": [
    "## Model Training"
   ]
  },
  {
   "cell_type": "code",
   "execution_count": 7,
   "id": "a67e30b9",
   "metadata": {},
   "outputs": [],
   "source": [
    "target = df.iloc[:, -1]"
   ]
  },
  {
   "cell_type": "code",
   "execution_count": 8,
   "id": "3f8e5c0a",
   "metadata": {},
   "outputs": [],
   "source": [
    "from sklearn.model_selection import train_test_split\n",
    "X_train, X_test, Y_train, Y_test = train_test_split(df.drop('Risk_Factor',axis='columns'), target, test_size=0.3)"
   ]
  },
  {
   "cell_type": "code",
   "execution_count": 9,
   "id": "b4a9856f",
   "metadata": {},
   "outputs": [
    {
     "data": {
      "text/plain": [
       "LinearRegression()"
      ]
     },
     "execution_count": 9,
     "metadata": {},
     "output_type": "execute_result"
    }
   ],
   "source": [
    "reg = linear_model.LinearRegression()\n",
    "reg.fit(df[['amount_of_loan', 'interest_rate', 'time_to_repay', 'simple_interest', 'cibil_score', 'past_debt_to_repay', 'profit_percentage_last_year', 'competition_scale', 'sustainability', 'startup', 'management_effectivity', 'Total_Revenue']], df['Risk_Factor'])\n"
   ]
  },
  {
   "cell_type": "markdown",
   "id": "5c41f0a0",
   "metadata": {},
   "source": [
    "## Predicting Testcases"
   ]
  },
  {
   "cell_type": "markdown",
   "id": "6dd4ca14",
   "metadata": {},
   "source": [
    "### Risk Factor is towards 2 (High Profit)"
   ]
  },
  {
   "cell_type": "code",
   "execution_count": 10,
   "id": "799c13b4",
   "metadata": {},
   "outputs": [
    {
     "name": "stderr",
     "output_type": "stream",
     "text": [
      "/home/siddhivinayak/anaconda3/lib/python3.9/site-packages/sklearn/base.py:450: UserWarning: X does not have valid feature names, but LinearRegression was fitted with feature names\n",
      "  warnings.warn(\n"
     ]
    },
    {
     "data": {
      "text/plain": [
       "array([2.1314823])"
      ]
     },
     "execution_count": 10,
     "metadata": {},
     "output_type": "execute_result"
    }
   ],
   "source": [
    "reg.predict([[2200000, 10, 7, 0, 880, 2600000, 40, 10, 0, 0, 0, 15000000]])"
   ]
  },
  {
   "cell_type": "markdown",
   "id": "72649dec",
   "metadata": {},
   "source": [
    "### Risk Factor is towards -2 (High Loss)"
   ]
  },
  {
   "cell_type": "code",
   "execution_count": 11,
   "id": "f1fb4b84",
   "metadata": {},
   "outputs": [
    {
     "name": "stderr",
     "output_type": "stream",
     "text": [
      "/home/siddhivinayak/anaconda3/lib/python3.9/site-packages/sklearn/base.py:450: UserWarning: X does not have valid feature names, but LinearRegression was fitted with feature names\n",
      "  warnings.warn(\n"
     ]
    },
    {
     "data": {
      "text/plain": [
       "array([1.46675482])"
      ]
     },
     "execution_count": 11,
     "metadata": {},
     "output_type": "execute_result"
    }
   ],
   "source": [
    "reg.predict([[8650000, 6, 8, 1, 400, 3500000, 1, 3, 0, 0, 1, 9260000]])"
   ]
  },
  {
   "cell_type": "markdown",
   "id": "ac4a4b1c",
   "metadata": {},
   "source": [
    "### Risk Factor is towards 1 (Less Profit)"
   ]
  },
  {
   "cell_type": "code",
   "execution_count": 12,
   "id": "b8de56d0",
   "metadata": {},
   "outputs": [
    {
     "name": "stderr",
     "output_type": "stream",
     "text": [
      "/home/siddhivinayak/anaconda3/lib/python3.9/site-packages/sklearn/base.py:450: UserWarning: X does not have valid feature names, but LinearRegression was fitted with feature names\n",
      "  warnings.warn(\n"
     ]
    },
    {
     "data": {
      "text/plain": [
       "array([2.20690285])"
      ]
     },
     "execution_count": 12,
     "metadata": {},
     "output_type": "execute_result"
    }
   ],
   "source": [
    "reg.predict([[3730000, 12, 2, 0, 700, 435000, 50, 2, 1, 1, 0, 8020000]])"
   ]
  },
  {
   "cell_type": "markdown",
   "id": "f7f52c34",
   "metadata": {},
   "source": [
    "### Risk Factor is towards -1 (Less Profit)"
   ]
  },
  {
   "cell_type": "code",
   "execution_count": 13,
   "id": "3c5be53a",
   "metadata": {},
   "outputs": [
    {
     "name": "stderr",
     "output_type": "stream",
     "text": [
      "/home/siddhivinayak/anaconda3/lib/python3.9/site-packages/sklearn/base.py:450: UserWarning: X does not have valid feature names, but LinearRegression was fitted with feature names\n",
      "  warnings.warn(\n"
     ]
    },
    {
     "data": {
      "text/plain": [
       "array([1.95009086])"
      ]
     },
     "execution_count": 13,
     "metadata": {},
     "output_type": "execute_result"
    }
   ],
   "source": [
    "reg.predict([[8350000, 13, 6, 0, 890, 10000000, 35, 9, 1, 1, 1, 5000000]])"
   ]
  },
  {
   "cell_type": "code",
   "execution_count": 14,
   "id": "84f5ed9d",
   "metadata": {},
   "outputs": [],
   "source": [
    "def main(a,b,c,d,e,f,g,h,i,j,k,l):\n",
    "    return reg.predict([[a,b,c,d,e,f,g,h,i,j,k,l]])"
   ]
  },
  {
   "cell_type": "markdown",
   "id": "aaca075c",
   "metadata": {},
   "source": []
  },
  {
   "cell_type": "markdown",
   "id": "11bd6773",
   "metadata": {},
   "source": [
    "# User Interface"
   ]
  },
  {
   "cell_type": "code",
   "execution_count": null,
   "id": "e467f72b",
   "metadata": {},
   "outputs": [],
   "source": []
  },
  {
   "cell_type": "code",
   "execution_count": 15,
   "id": "89020a26",
   "metadata": {},
   "outputs": [
    {
     "name": "stdout",
     "output_type": "stream",
     "text": [
      "Requirement already satisfied: ipywidgets==7.7.0 in /home/siddhivinayak/anaconda3/lib/python3.9/site-packages (7.7.0)\n",
      "Requirement already satisfied: ipython-genutils~=0.2.0 in /home/siddhivinayak/anaconda3/lib/python3.9/site-packages (from ipywidgets==7.7.0) (0.2.0)\n",
      "Requirement already satisfied: ipykernel>=4.5.1 in /home/siddhivinayak/anaconda3/lib/python3.9/site-packages (from ipywidgets==7.7.0) (6.9.1)\n",
      "Requirement already satisfied: jupyterlab-widgets>=1.0.0 in /home/siddhivinayak/anaconda3/lib/python3.9/site-packages (from ipywidgets==7.7.0) (1.0.0)\n",
      "Requirement already satisfied: nbformat>=4.2.0 in /home/siddhivinayak/anaconda3/lib/python3.9/site-packages (from ipywidgets==7.7.0) (5.3.0)\n",
      "Requirement already satisfied: traitlets>=4.3.1 in /home/siddhivinayak/anaconda3/lib/python3.9/site-packages (from ipywidgets==7.7.0) (5.1.1)\n",
      "Requirement already satisfied: ipython>=4.0.0 in /home/siddhivinayak/anaconda3/lib/python3.9/site-packages (from ipywidgets==7.7.0) (8.2.0)\n",
      "Requirement already satisfied: widgetsnbextension~=3.6.0 in /home/siddhivinayak/anaconda3/lib/python3.9/site-packages (from ipywidgets==7.7.0) (3.6.0)\n",
      "Requirement already satisfied: nest-asyncio in /home/siddhivinayak/anaconda3/lib/python3.9/site-packages (from ipykernel>=4.5.1->ipywidgets==7.7.0) (1.5.5)\n",
      "Requirement already satisfied: jupyter-client<8.0 in /home/siddhivinayak/anaconda3/lib/python3.9/site-packages (from ipykernel>=4.5.1->ipywidgets==7.7.0) (6.1.12)\n",
      "Requirement already satisfied: matplotlib-inline<0.2.0,>=0.1.0 in /home/siddhivinayak/anaconda3/lib/python3.9/site-packages (from ipykernel>=4.5.1->ipywidgets==7.7.0) (0.1.2)\n",
      "Requirement already satisfied: tornado<7.0,>=4.2 in /home/siddhivinayak/anaconda3/lib/python3.9/site-packages (from ipykernel>=4.5.1->ipywidgets==7.7.0) (6.1)\n",
      "Requirement already satisfied: debugpy<2.0,>=1.0.0 in /home/siddhivinayak/anaconda3/lib/python3.9/site-packages (from ipykernel>=4.5.1->ipywidgets==7.7.0) (1.5.1)\n",
      "Requirement already satisfied: pickleshare in /home/siddhivinayak/anaconda3/lib/python3.9/site-packages (from ipython>=4.0.0->ipywidgets==7.7.0) (0.7.5)\n",
      "Requirement already satisfied: pexpect>4.3 in /home/siddhivinayak/anaconda3/lib/python3.9/site-packages (from ipython>=4.0.0->ipywidgets==7.7.0) (4.8.0)\n",
      "Requirement already satisfied: backcall in /home/siddhivinayak/anaconda3/lib/python3.9/site-packages (from ipython>=4.0.0->ipywidgets==7.7.0) (0.2.0)\n",
      "Requirement already satisfied: setuptools>=18.5 in /home/siddhivinayak/anaconda3/lib/python3.9/site-packages (from ipython>=4.0.0->ipywidgets==7.7.0) (61.2.0)\n",
      "Requirement already satisfied: decorator in /home/siddhivinayak/anaconda3/lib/python3.9/site-packages (from ipython>=4.0.0->ipywidgets==7.7.0) (5.1.1)\n",
      "Requirement already satisfied: stack-data in /home/siddhivinayak/anaconda3/lib/python3.9/site-packages (from ipython>=4.0.0->ipywidgets==7.7.0) (0.2.0)\n",
      "Requirement already satisfied: jedi>=0.16 in /home/siddhivinayak/anaconda3/lib/python3.9/site-packages (from ipython>=4.0.0->ipywidgets==7.7.0) (0.18.1)\n",
      "Requirement already satisfied: prompt-toolkit!=3.0.0,!=3.0.1,<3.1.0,>=2.0.0 in /home/siddhivinayak/anaconda3/lib/python3.9/site-packages (from ipython>=4.0.0->ipywidgets==7.7.0) (3.0.20)\n",
      "Requirement already satisfied: pygments>=2.4.0 in /home/siddhivinayak/anaconda3/lib/python3.9/site-packages (from ipython>=4.0.0->ipywidgets==7.7.0) (2.11.2)\n",
      "Requirement already satisfied: parso<0.9.0,>=0.8.0 in /home/siddhivinayak/anaconda3/lib/python3.9/site-packages (from jedi>=0.16->ipython>=4.0.0->ipywidgets==7.7.0) (0.8.3)\n",
      "Requirement already satisfied: jupyter-core>=4.6.0 in /home/siddhivinayak/anaconda3/lib/python3.9/site-packages (from jupyter-client<8.0->ipykernel>=4.5.1->ipywidgets==7.7.0) (4.9.2)\n",
      "Requirement already satisfied: python-dateutil>=2.1 in /home/siddhivinayak/anaconda3/lib/python3.9/site-packages (from jupyter-client<8.0->ipykernel>=4.5.1->ipywidgets==7.7.0) (2.8.2)\n",
      "Requirement already satisfied: pyzmq>=13 in /home/siddhivinayak/anaconda3/lib/python3.9/site-packages (from jupyter-client<8.0->ipykernel>=4.5.1->ipywidgets==7.7.0) (22.3.0)\n",
      "Requirement already satisfied: fastjsonschema in /home/siddhivinayak/anaconda3/lib/python3.9/site-packages (from nbformat>=4.2.0->ipywidgets==7.7.0) (2.15.1)\n",
      "Requirement already satisfied: jsonschema>=2.6 in /home/siddhivinayak/anaconda3/lib/python3.9/site-packages (from nbformat>=4.2.0->ipywidgets==7.7.0) (4.4.0)\n",
      "Requirement already satisfied: pyrsistent!=0.17.0,!=0.17.1,!=0.17.2,>=0.14.0 in /home/siddhivinayak/anaconda3/lib/python3.9/site-packages (from jsonschema>=2.6->nbformat>=4.2.0->ipywidgets==7.7.0) (0.18.0)\n",
      "Requirement already satisfied: attrs>=17.4.0 in /home/siddhivinayak/anaconda3/lib/python3.9/site-packages (from jsonschema>=2.6->nbformat>=4.2.0->ipywidgets==7.7.0) (21.4.0)\n",
      "Requirement already satisfied: ptyprocess>=0.5 in /home/siddhivinayak/anaconda3/lib/python3.9/site-packages (from pexpect>4.3->ipython>=4.0.0->ipywidgets==7.7.0) (0.7.0)\n",
      "Requirement already satisfied: wcwidth in /home/siddhivinayak/anaconda3/lib/python3.9/site-packages (from prompt-toolkit!=3.0.0,!=3.0.1,<3.1.0,>=2.0.0->ipython>=4.0.0->ipywidgets==7.7.0) (0.2.5)\n",
      "Requirement already satisfied: six>=1.5 in /home/siddhivinayak/anaconda3/lib/python3.9/site-packages (from python-dateutil>=2.1->jupyter-client<8.0->ipykernel>=4.5.1->ipywidgets==7.7.0) (1.16.0)\n",
      "Requirement already satisfied: notebook>=4.4.1 in /home/siddhivinayak/anaconda3/lib/python3.9/site-packages (from widgetsnbextension~=3.6.0->ipywidgets==7.7.0) (6.4.8)\n",
      "Requirement already satisfied: Send2Trash>=1.8.0 in /home/siddhivinayak/anaconda3/lib/python3.9/site-packages (from notebook>=4.4.1->widgetsnbextension~=3.6.0->ipywidgets==7.7.0) (1.8.0)\n",
      "Requirement already satisfied: argon2-cffi in /home/siddhivinayak/anaconda3/lib/python3.9/site-packages (from notebook>=4.4.1->widgetsnbextension~=3.6.0->ipywidgets==7.7.0) (21.3.0)\n",
      "Requirement already satisfied: jinja2 in /home/siddhivinayak/anaconda3/lib/python3.9/site-packages (from notebook>=4.4.1->widgetsnbextension~=3.6.0->ipywidgets==7.7.0) (2.11.3)\n",
      "Requirement already satisfied: terminado>=0.8.3 in /home/siddhivinayak/anaconda3/lib/python3.9/site-packages (from notebook>=4.4.1->widgetsnbextension~=3.6.0->ipywidgets==7.7.0) (0.13.1)\n",
      "Requirement already satisfied: prometheus-client in /home/siddhivinayak/anaconda3/lib/python3.9/site-packages (from notebook>=4.4.1->widgetsnbextension~=3.6.0->ipywidgets==7.7.0) (0.13.1)\n",
      "Requirement already satisfied: nbconvert in /home/siddhivinayak/anaconda3/lib/python3.9/site-packages (from notebook>=4.4.1->widgetsnbextension~=3.6.0->ipywidgets==7.7.0) (6.4.4)\n",
      "Requirement already satisfied: argon2-cffi-bindings in /home/siddhivinayak/anaconda3/lib/python3.9/site-packages (from argon2-cffi->notebook>=4.4.1->widgetsnbextension~=3.6.0->ipywidgets==7.7.0) (21.2.0)\n",
      "Requirement already satisfied: cffi>=1.0.1 in /home/siddhivinayak/anaconda3/lib/python3.9/site-packages (from argon2-cffi-bindings->argon2-cffi->notebook>=4.4.1->widgetsnbextension~=3.6.0->ipywidgets==7.7.0) (1.15.0)\n",
      "Requirement already satisfied: pycparser in /home/siddhivinayak/anaconda3/lib/python3.9/site-packages (from cffi>=1.0.1->argon2-cffi-bindings->argon2-cffi->notebook>=4.4.1->widgetsnbextension~=3.6.0->ipywidgets==7.7.0) (2.21)\n",
      "Requirement already satisfied: MarkupSafe>=0.23 in /home/siddhivinayak/anaconda3/lib/python3.9/site-packages (from jinja2->notebook>=4.4.1->widgetsnbextension~=3.6.0->ipywidgets==7.7.0) (2.0.1)\n",
      "Requirement already satisfied: testpath in /home/siddhivinayak/anaconda3/lib/python3.9/site-packages (from nbconvert->notebook>=4.4.1->widgetsnbextension~=3.6.0->ipywidgets==7.7.0) (0.5.0)\n",
      "Requirement already satisfied: mistune<2,>=0.8.1 in /home/siddhivinayak/anaconda3/lib/python3.9/site-packages (from nbconvert->notebook>=4.4.1->widgetsnbextension~=3.6.0->ipywidgets==7.7.0) (0.8.4)\n",
      "Requirement already satisfied: jupyterlab-pygments in /home/siddhivinayak/anaconda3/lib/python3.9/site-packages (from nbconvert->notebook>=4.4.1->widgetsnbextension~=3.6.0->ipywidgets==7.7.0) (0.1.2)\n",
      "Requirement already satisfied: pandocfilters>=1.4.1 in /home/siddhivinayak/anaconda3/lib/python3.9/site-packages (from nbconvert->notebook>=4.4.1->widgetsnbextension~=3.6.0->ipywidgets==7.7.0) (1.5.0)\n"
     ]
    },
    {
     "name": "stdout",
     "output_type": "stream",
     "text": [
      "Requirement already satisfied: entrypoints>=0.2.2 in /home/siddhivinayak/anaconda3/lib/python3.9/site-packages (from nbconvert->notebook>=4.4.1->widgetsnbextension~=3.6.0->ipywidgets==7.7.0) (0.4)\n",
      "Requirement already satisfied: beautifulsoup4 in /home/siddhivinayak/anaconda3/lib/python3.9/site-packages (from nbconvert->notebook>=4.4.1->widgetsnbextension~=3.6.0->ipywidgets==7.7.0) (4.11.1)\n",
      "Requirement already satisfied: nbclient<0.6.0,>=0.5.0 in /home/siddhivinayak/anaconda3/lib/python3.9/site-packages (from nbconvert->notebook>=4.4.1->widgetsnbextension~=3.6.0->ipywidgets==7.7.0) (0.5.13)\n",
      "Requirement already satisfied: defusedxml in /home/siddhivinayak/anaconda3/lib/python3.9/site-packages (from nbconvert->notebook>=4.4.1->widgetsnbextension~=3.6.0->ipywidgets==7.7.0) (0.7.1)\n",
      "Requirement already satisfied: bleach in /home/siddhivinayak/anaconda3/lib/python3.9/site-packages (from nbconvert->notebook>=4.4.1->widgetsnbextension~=3.6.0->ipywidgets==7.7.0) (4.1.0)\n",
      "Requirement already satisfied: soupsieve>1.2 in /home/siddhivinayak/anaconda3/lib/python3.9/site-packages (from beautifulsoup4->nbconvert->notebook>=4.4.1->widgetsnbextension~=3.6.0->ipywidgets==7.7.0) (2.3.1)\n",
      "Requirement already satisfied: webencodings in /home/siddhivinayak/anaconda3/lib/python3.9/site-packages (from bleach->nbconvert->notebook>=4.4.1->widgetsnbextension~=3.6.0->ipywidgets==7.7.0) (0.5.1)\n",
      "Requirement already satisfied: packaging in /home/siddhivinayak/anaconda3/lib/python3.9/site-packages (from bleach->nbconvert->notebook>=4.4.1->widgetsnbextension~=3.6.0->ipywidgets==7.7.0) (21.3)\n",
      "Requirement already satisfied: pyparsing!=3.0.5,>=2.0.2 in /home/siddhivinayak/anaconda3/lib/python3.9/site-packages (from packaging->bleach->nbconvert->notebook>=4.4.1->widgetsnbextension~=3.6.0->ipywidgets==7.7.0) (3.0.4)\n",
      "Requirement already satisfied: asttokens in /home/siddhivinayak/anaconda3/lib/python3.9/site-packages (from stack-data->ipython>=4.0.0->ipywidgets==7.7.0) (2.0.5)\n",
      "Requirement already satisfied: executing in /home/siddhivinayak/anaconda3/lib/python3.9/site-packages (from stack-data->ipython>=4.0.0->ipywidgets==7.7.0) (0.8.3)\n",
      "Requirement already satisfied: pure-eval in /home/siddhivinayak/anaconda3/lib/python3.9/site-packages (from stack-data->ipython>=4.0.0->ipywidgets==7.7.0) (0.2.2)\n"
     ]
    }
   ],
   "source": [
    "!pip install ipywidgets==7.7.0"
   ]
  },
  {
   "cell_type": "code",
   "execution_count": 16,
   "id": "a39934f6",
   "metadata": {},
   "outputs": [],
   "source": [
    "import ipywidgets as widgets\n",
    "from IPython.display import display"
   ]
  },
  {
   "cell_type": "code",
   "execution_count": 24,
   "id": "4d57ab8d",
   "metadata": {},
   "outputs": [
    {
     "data": {
      "application/vnd.jupyter.widget-view+json": {
       "model_id": "759f2989b9a548efa99893e199aa8eed",
       "version_major": 2,
       "version_minor": 0
      },
      "text/plain": [
       "IntText(value=0, description='Revenue:')"
      ]
     },
     "metadata": {},
     "output_type": "display_data"
    },
    {
     "data": {
      "application/vnd.jupyter.widget-view+json": {
       "model_id": "0595bc308be44d0a8f3215fc64f65f70",
       "version_major": 2,
       "version_minor": 0
      },
      "text/plain": [
       "IntText(value=0, description='Profit% last year:', style=DescriptionStyle(description_width='initial'))"
      ]
     },
     "metadata": {},
     "output_type": "display_data"
    },
    {
     "data": {
      "application/vnd.jupyter.widget-view+json": {
       "model_id": "353ff92bb67847a2860efdf6b4837e49",
       "version_major": 2,
       "version_minor": 0
      },
      "text/plain": [
       "IntSlider(value=0, description='Interest rate in %', style=SliderStyle(description_width='initial'))"
      ]
     },
     "metadata": {},
     "output_type": "display_data"
    },
    {
     "data": {
      "application/vnd.jupyter.widget-view+json": {
       "model_id": "4add9ac3c02c45d092a832d69944671f",
       "version_major": 2,
       "version_minor": 0
      },
      "text/plain": [
       "IntText(value=0, description='Amount of Loan', style=DescriptionStyle(description_width='initial'))"
      ]
     },
     "metadata": {},
     "output_type": "display_data"
    },
    {
     "data": {
      "application/vnd.jupyter.widget-view+json": {
       "model_id": "a97f972ce3db44f985c101be558a31be",
       "version_major": 2,
       "version_minor": 0
      },
      "text/plain": [
       "IntText(value=0, description='Time to repay', style=DescriptionStyle(description_width='initial'))"
      ]
     },
     "metadata": {},
     "output_type": "display_data"
    },
    {
     "data": {
      "application/vnd.jupyter.widget-view+json": {
       "model_id": "4fccbbb0d22249cd8fc5a143b9f011aa",
       "version_major": 2,
       "version_minor": 0
      },
      "text/plain": [
       "ToggleButtons(description='Simple interest or not', options=(1, 0), style=ToggleButtonsStyle(description_width…"
      ]
     },
     "metadata": {},
     "output_type": "display_data"
    },
    {
     "data": {
      "application/vnd.jupyter.widget-view+json": {
       "model_id": "6878b8da264140adb5a3e1ea7433b12e",
       "version_major": 2,
       "version_minor": 0
      },
      "text/plain": [
       "IntText(value=0, description='Past debt to repay', style=DescriptionStyle(description_width='initial'))"
      ]
     },
     "metadata": {},
     "output_type": "display_data"
    },
    {
     "data": {
      "application/vnd.jupyter.widget-view+json": {
       "model_id": "c327b15e716a46ab8d93643e15fed327",
       "version_major": 2,
       "version_minor": 0
      },
      "text/plain": [
       "IntText(value=0, description='Sustainability', style=DescriptionStyle(description_width='initial'))"
      ]
     },
     "metadata": {},
     "output_type": "display_data"
    },
    {
     "data": {
      "application/vnd.jupyter.widget-view+json": {
       "model_id": "4b35713f3fd44fba8a1dd83f792b2cfa",
       "version_major": 2,
       "version_minor": 0
      },
      "text/plain": [
       "IntSlider(value=0, description='Competition Scale', max=10, style=SliderStyle(description_width='initial'))"
      ]
     },
     "metadata": {},
     "output_type": "display_data"
    },
    {
     "data": {
      "application/vnd.jupyter.widget-view+json": {
       "model_id": "be763f97546d4ca08c32659a5051483d",
       "version_major": 2,
       "version_minor": 0
      },
      "text/plain": [
       "ToggleButtons(description='Managment Effectivitely', options=(1, 0), style=ToggleButtonsStyle(description_widt…"
      ]
     },
     "metadata": {},
     "output_type": "display_data"
    },
    {
     "data": {
      "application/vnd.jupyter.widget-view+json": {
       "model_id": "ca78776922c0413c821e55dfe06086fa",
       "version_major": 2,
       "version_minor": 0
      },
      "text/plain": [
       "ToggleButtons(description='Whether a startup or not', options=(1, 0), style=ToggleButtonsStyle(description_wid…"
      ]
     },
     "metadata": {},
     "output_type": "display_data"
    },
    {
     "data": {
      "application/vnd.jupyter.widget-view+json": {
       "model_id": "57ada6ac30e747689e1bdd9dc6dabc14",
       "version_major": 2,
       "version_minor": 0
      },
      "text/plain": [
       "IntText(value=0, description='Cibil Score', style=DescriptionStyle(description_width='initial'))"
      ]
     },
     "metadata": {},
     "output_type": "display_data"
    }
   ],
   "source": [
    "#revenue input\n",
    "revenue = widgets.IntText(description='Revenue:',disabled=False)\n",
    "display(revenue)\n",
    "\n",
    "#Profit% last year input\n",
    "profit_percentage_last_year= widgets.IntText(description='Profit% last year:',disabled=False,style= {'description_width': 'initial'})\n",
    "display(profit_percentage_last_year)\n",
    "\n",
    "#Interest rate input\n",
    "interest_rate= widgets.IntSlider(description=\"Interest rate in %\",disabled=False,style= {'description_width': 'initial'})\n",
    "display(interest_rate)\n",
    "\n",
    "#Amount of Loan input\n",
    "amount_of_loan = widgets.IntText(description=\"Amount of Loan\",disabled=False,style= {'description_width': 'initial'})\n",
    "display(amount_of_loan)\n",
    "\n",
    "#Time to repay input\n",
    "time_to_repay=widgets.IntText(description=\"Time to repay\",disabled=False,style= {'description_width': 'initial'})\n",
    "display(time_to_repay)\n",
    "\n",
    "#simple interest input\n",
    "simple_interest=widgets.ToggleButtons(description=\"Simple interest or not\",options=[1,0],disabled=False,style= {'description_width': 'initial'})\n",
    "display(simple_interest)\n",
    "\n",
    "#Past debt to repay input\n",
    "past_debt_to_repay=widgets.IntText(description=\"Past debt to repay\",disabled=False,style= {'description_width': 'initial'})\n",
    "display(past_debt_to_repay)\n",
    "\n",
    "#Sustainability input\n",
    "sustainability=widgets.IntText(description=\"Sustainability\",disabled=False,style= {'description_width': 'initial'})\n",
    "display(sustainability)\n",
    "\n",
    "#competition scale input\n",
    "competition_scale=widgets.IntSlider(min = 0, max = 10, step = 1, description=\"Competition Scale\",disabled=False,style= {'description_width': 'initial'})\n",
    "display(competition_scale)\n",
    "\n",
    "#managment effectivitely input\n",
    "management_effectivity=widgets.ToggleButtons(description=\"Managment Effectivitely\",options=[1,0],disabled=False,style= {'description_width': 'initial'})\n",
    "display(management_effectivity)\n",
    "\n",
    "#startup input\n",
    "startup = widgets.ToggleButtons(description=\"Whether a startup or not\",options=[1,0],disabled=False,style= {'description_width': 'initial'})\n",
    "display(startup)\n",
    "\n",
    "#cibil score input\n",
    "cibil_score=widgets.IntText(min = 300, max = 900 , description=\"Cibil Score\",disabled=False,style= {'description_width': 'initial'})\n",
    "display(cibil_score)"
   ]
  },
  {
   "cell_type": "code",
   "execution_count": 26,
   "id": "5664bc8f",
   "metadata": {},
   "outputs": [
    {
     "name": "stdout",
     "output_type": "stream",
     "text": [
      "Revenue 7570100\n",
      "profit percentage last year 24\n",
      "interest rate (in %) 0\n",
      "amount of loan (in INR) 8489519\n",
      "time to repay (in years) 9\n",
      "simple interest (1) / Compound Interest (0) 1\n",
      "past debt to repay (in INR) 3050753\n",
      "sustainability (1/0) 0\n",
      "competition scale (out of 10) 0\n",
      "management effectivity (1/0) 0\n",
      "startup or not (1/0) 0\n",
      "cibil score (300 - 900) 475\n"
     ]
    },
    {
     "name": "stderr",
     "output_type": "stream",
     "text": [
      "/home/siddhivinayak/anaconda3/lib/python3.9/site-packages/sklearn/base.py:450: UserWarning: X does not have valid feature names, but LinearRegression was fitted with feature names\n",
      "  warnings.warn(\n"
     ]
    }
   ],
   "source": [
    "print(\"Revenue\", revenue.value)\n",
    "print(\"profit percentage last year\" ,profit_percentage_last_year.value)\n",
    "print(\"interest rate (in %)\" ,interest_rate.value)\n",
    "print(\"amount of loan (in INR)\" ,amount_of_loan.value)\n",
    "print(\"time to repay (in years)\",time_to_repay.value)\n",
    "print(\"simple interest (1) / Compound Interest (0)\",simple_interest.value)\n",
    "print(\"past debt to repay (in INR)\",past_debt_to_repay.value)\n",
    "print(\"sustainability (1/0)\", sustainability.value)\n",
    "print(\"competition scale (out of 10)\" ,competition_scale.value)\n",
    "print(\"management effectivity (1/0)\" ,management_effectivity.value)\n",
    "print(\"startup or not (1/0)\" ,startup.value)\n",
    "print(\"cibil score (300 - 900)\", cibil_score.value)\n",
    "\n",
    "output = main(revenue.value, profit_percentage_last_year.value, interest_rate.value \\\n",
    ", amount_of_loan.value, time_to_repay.value, simple_interest.value, past_debt_to_repay.value, \\\n",
    "sustainability.value, competition_scale.value, management_effectivity.value, startup.value, cibil_score.value)\n"
   ]
  },
  {
   "cell_type": "code",
   "execution_count": 30,
   "id": "c9a27bfa",
   "metadata": {},
   "outputs": [
    {
     "name": "stdout",
     "output_type": "stream",
     "text": [
      "High Loss Risk, Please avoid taking new loans. High possibility to fall in debt trap !\n"
     ]
    }
   ],
   "source": [
    "if output < -2:\n",
    "    print(\"High Loss Risk, Please avoid taking new loans. High possibility to fall in debt trap !\")\n",
    "elif -2 <= output <= -1:\n",
    "    print(\"Loss Risk, please think twice before taking a new loan\")\n",
    "elif -1 < output <= 1:\n",
    "    print(\"Small Profit, Avoid taking unnecessary large loans.\")\n",
    "else:\n",
    "    print(\"Good Vibe! You can surely take loan\")"
   ]
  },
  {
   "cell_type": "code",
   "execution_count": null,
   "id": "ca92fc29",
   "metadata": {},
   "outputs": [],
   "source": []
  }
 ],
 "metadata": {
  "kernelspec": {
   "display_name": "Python 3 (ipykernel)",
   "language": "python",
   "name": "python3"
  },
  "language_info": {
   "codemirror_mode": {
    "name": "ipython",
    "version": 3
   },
   "file_extension": ".py",
   "mimetype": "text/x-python",
   "name": "python",
   "nbconvert_exporter": "python",
   "pygments_lexer": "ipython3",
   "version": "3.9.12"
  }
 },
 "nbformat": 4,
 "nbformat_minor": 5
}
